{
 "cells": [
  {
   "cell_type": "code",
   "execution_count": 11,
   "metadata": {},
   "outputs": [
    {
     "data": {
      "text/plain": [
       "AIMessage(content='제주도와 서울의 거')"
      ]
     },
     "execution_count": 11,
     "metadata": {},
     "output_type": "execute_result"
    }
   ],
   "source": [
    "from langchain.schema import HumanMessage, AIMessage, SystemMessage\n",
    "from langchain.chat_models import ChatOpenAI\n",
    "\n",
    "\n",
    "\n",
    "chat = ChatOpenAI(\n",
    "    temperature=0.1,\n",
    "    max_tokens=50\n",
    ")\n",
    "\n",
    "messages = [\n",
    "    SystemMessage(content=\"you are korean who can listen in english. you reply in korean\"),\n",
    "    AIMessage(content=\"안녕하세요 저는 한국인 입니다. 한국어로 답변 해요.\"),\n",
    "    HumanMessage(content=\"제주도와 서울의 거리를 알려줘, and please tell me busan city and masan city distance too\")\n",
    "]\n",
    "\n",
    "a =chat.predict_messages(messages)\n",
    "\n",
    "a"
   ]
  }
 ],
 "metadata": {
  "kernelspec": {
   "display_name": "env",
   "language": "python",
   "name": "python3"
  },
  "language_info": {
   "codemirror_mode": {
    "name": "ipython",
    "version": 3
   },
   "file_extension": ".py",
   "mimetype": "text/x-python",
   "name": "python",
   "nbconvert_exporter": "python",
   "pygments_lexer": "ipython3",
   "version": "3.11.6"
  }
 },
 "nbformat": 4,
 "nbformat_minor": 2
}
